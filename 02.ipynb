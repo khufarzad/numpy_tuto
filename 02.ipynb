{
 "cells": [
  {
   "cell_type": "markdown",
   "id": "e27d863f-e502-4051-ad30-e8be5f0220c7",
   "metadata": {},
   "source": [
    "# Numpy"
   ]
  },
  {
   "cell_type": "code",
   "execution_count": 2,
   "id": "2ad2e8c1-064d-458d-90b0-20ac59b4039f",
   "metadata": {},
   "outputs": [],
   "source": [
    "import numpy as np"
   ]
  },
  {
   "cell_type": "code",
   "execution_count": 3,
   "id": "a3733480-c244-456a-bac7-32e98afd3382",
   "metadata": {},
   "outputs": [
    {
     "name": "stdout",
     "output_type": "stream",
     "text": [
      "a: [1 4 2 7 2 8 5 3]\n",
      "type(a): <class 'numpy.ndarray'>\n"
     ]
    }
   ],
   "source": [
    "a = np.array([1, 4, 2, 7, 2, 8, 5, 3])\n",
    "print('a:', a)\n",
    "print('type(a):', type(a))"
   ]
  },
  {
   "cell_type": "code",
   "execution_count": 4,
   "id": "0d5e1afd-3975-407e-82ed-18d2254af0ed",
   "metadata": {},
   "outputs": [
    {
     "name": "stdout",
     "output_type": "stream",
     "text": [
      "d: [4 6]\n"
     ]
    }
   ],
   "source": [
    "b = np.array([1, 2])\n",
    "c = np.array([3, 4])\n",
    "d = b + c\n",
    "print('d:', d)"
   ]
  },
  {
   "cell_type": "code",
   "execution_count": 5,
   "id": "044ac4f9-26f1-45f0-b306-610d185f9ddc",
   "metadata": {},
   "outputs": [
    {
     "name": "stdout",
     "output_type": "stream",
     "text": [
      "e: [ 3 12  6 21  6 24 15  9]\n"
     ]
    }
   ],
   "source": [
    "# a = np.array([1, 4, 2, 7, 2, 8, 5, 3])\n",
    "e = a * 3\n",
    "print('e:', e)"
   ]
  },
  {
   "cell_type": "code",
   "execution_count": 8,
   "id": "899ae70e-49d8-45a8-9726-e5657d3cdd42",
   "metadata": {},
   "outputs": [
    {
     "name": "stdout",
     "output_type": "stream",
     "text": [
      "f:\n",
      " [[1 2]\n",
      " [3 4]\n",
      " [5 6]\n",
      " [7 8]]\n"
     ]
    }
   ],
   "source": [
    "f = np.array([[1, 2], [3, 4], [5, 6], [7, 8]])\n",
    "print('f:\\n', f)"
   ]
  },
  {
   "cell_type": "markdown",
   "id": "d7372250-123f-494c-a53b-9a1b6f77b327",
   "metadata": {},
   "source": [
    "## Indexing and Slicing"
   ]
  },
  {
   "cell_type": "code",
   "execution_count": 9,
   "id": "34136c02-1fb1-401f-9126-b0dadd760854",
   "metadata": {},
   "outputs": [
    {
     "name": "stdout",
     "output_type": "stream",
     "text": [
      "a[3]: 7\n"
     ]
    }
   ],
   "source": [
    "# a = np.array([1, 4, 2, 7, 2, 8, 5, 3])\n",
    "print('a[3]:', a[3])"
   ]
  },
  {
   "cell_type": "code",
   "execution_count": 11,
   "id": "9b77e494-0503-4afa-bb1e-6a33d54de3fb",
   "metadata": {},
   "outputs": [
    {
     "name": "stdout",
     "output_type": "stream",
     "text": [
      "f[3]: [7 8]\n",
      "f[2:]: [[5 6]\n",
      " [7 8]]\n"
     ]
    }
   ],
   "source": [
    "# f = np.array([[1, 2], [3, 4], [5, 6], [7, 8]])\n",
    "print('f[3]:', f[3])\n",
    "print('f[2:]:', f[2:])"
   ]
  },
  {
   "cell_type": "code",
   "execution_count": 13,
   "id": "f2b699a6-e721-4403-b153-6a5a29135c51",
   "metadata": {},
   "outputs": [
    {
     "name": "stdout",
     "output_type": "stream",
     "text": [
      "f[2, 1]: 6\n"
     ]
    }
   ],
   "source": [
    "print('f[2, 1]:', f[2, 1])"
   ]
  },
  {
   "cell_type": "code",
   "execution_count": 15,
   "id": "f0326ebd-3cb2-4bd1-91f1-087e459d50f7",
   "metadata": {},
   "outputs": [
    {
     "name": "stdout",
     "output_type": "stream",
     "text": [
      "f[:, 1]: [2 4 6 8]\n"
     ]
    }
   ],
   "source": [
    "print('f[:, 1]:', f[:, 1])"
   ]
  },
  {
   "cell_type": "code",
   "execution_count": 16,
   "id": "ce648507-63e6-4ea8-a253-4235ace3f674",
   "metadata": {},
   "outputs": [
    {
     "name": "stdout",
     "output_type": "stream",
     "text": [
      "a.ndim: 1\n",
      "f.ndim: 2\n"
     ]
    }
   ],
   "source": [
    "print('a.ndim:', a.ndim)\n",
    "print('f.ndim:', f.ndim)"
   ]
  },
  {
   "cell_type": "code",
   "execution_count": 17,
   "id": "b64ce771-5aed-41a8-bef6-e89962be40ca",
   "metadata": {},
   "outputs": [
    {
     "name": "stdout",
     "output_type": "stream",
     "text": [
      "a.size: 8\n",
      "f.size: 8\n"
     ]
    }
   ],
   "source": [
    "print('a.size:', a.size)\n",
    "print('f.size:', f.size)"
   ]
  },
  {
   "cell_type": "code",
   "execution_count": 18,
   "id": "0b85465d-c505-4b7b-8fe5-b7df39b0acc3",
   "metadata": {},
   "outputs": [
    {
     "name": "stdout",
     "output_type": "stream",
     "text": [
      "a.shape: (8,)\n",
      "f.shape: (4, 2)\n"
     ]
    }
   ],
   "source": [
    "print('a.shape:', a.shape)\n",
    "print('f.shape:', f.shape)"
   ]
  },
  {
   "cell_type": "code",
   "execution_count": null,
   "id": "6c2bc9b7-a3cb-41f9-b51e-7b803aa8d753",
   "metadata": {},
   "outputs": [],
   "source": []
  }
 ],
 "metadata": {
  "kernelspec": {
   "display_name": "Python 3 (ipykernel)",
   "language": "python",
   "name": "python3"
  },
  "language_info": {
   "codemirror_mode": {
    "name": "ipython",
    "version": 3
   },
   "file_extension": ".py",
   "mimetype": "text/x-python",
   "name": "python",
   "nbconvert_exporter": "python",
   "pygments_lexer": "ipython3",
   "version": "3.12.2"
  }
 },
 "nbformat": 4,
 "nbformat_minor": 5
}
