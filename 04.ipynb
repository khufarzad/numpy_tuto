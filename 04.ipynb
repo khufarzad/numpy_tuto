{
 "cells": [
  {
   "cell_type": "code",
   "execution_count": 2,
   "id": "345af9ea-479c-41ef-a48d-7086787bbe3c",
   "metadata": {},
   "outputs": [],
   "source": [
    "import numpy as np\n",
    "import pandas as pd"
   ]
  },
  {
   "cell_type": "code",
   "execution_count": 10,
   "id": "46bc5d4d-f1d1-48b7-9204-e58c3a61916b",
   "metadata": {},
   "outputs": [
    {
     "name": "stdout",
     "output_type": "stream",
     "text": [
      "   a  b  c\n",
      "0  1  4  7\n",
      "1  2  5  8\n",
      "2  3  6  9\n"
     ]
    }
   ],
   "source": [
    "# DataFrame\n",
    "data = {\n",
    "    'a': np.array([1, 2, 3]),\n",
    "    'b': np.array([4, 5, 6]),\n",
    "    'c': np.array([7, 8, 9])\n",
    "}\n",
    "df = pd.DataFrame(data)\n",
    "print(df)"
   ]
  },
  {
   "cell_type": "code",
   "execution_count": 16,
   "id": "080d62cc-a32a-4509-9b62-2fca97525017",
   "metadata": {},
   "outputs": [],
   "source": [
    "df.to_csv('04.csv', index=False)\n",
    "df.to_csv('05.csv')"
   ]
  },
  {
   "cell_type": "code",
   "execution_count": 17,
   "id": "0490c4cc-34ad-4a19-b413-5d1e111236af",
   "metadata": {},
   "outputs": [
    {
     "name": "stdout",
     "output_type": "stream",
     "text": [
      "   a  b  c\n",
      "0  1  4  7\n",
      "1  2  5  8\n",
      "2  3  6  9\n"
     ]
    }
   ],
   "source": [
    "df1 = pd.read_csv('04.csv')\n",
    "print(df1)"
   ]
  },
  {
   "cell_type": "code",
   "execution_count": 18,
   "id": "59d18987-804e-4aaa-9b4f-15ba13e69853",
   "metadata": {},
   "outputs": [
    {
     "name": "stdout",
     "output_type": "stream",
     "text": [
      "   Unnamed: 0  a  b  c\n",
      "0           0  1  4  7\n",
      "1           1  2  5  8\n",
      "2           2  3  6  9\n"
     ]
    }
   ],
   "source": [
    "df2 = pd.read_csv('05.csv')\n",
    "print(df2)"
   ]
  },
  {
   "cell_type": "code",
   "execution_count": 21,
   "id": "dd7b79b2-8d72-43d9-bf1b-b2ba25be0768",
   "metadata": {},
   "outputs": [
    {
     "name": "stdout",
     "output_type": "stream",
     "text": [
      "[1 2 3]\n",
      "[4 5 6]\n"
     ]
    }
   ],
   "source": [
    "a = np.array(df1['a'])\n",
    "b = np.array(df1['b'])\n",
    "print(a)\n",
    "print(b)"
   ]
  },
  {
   "cell_type": "code",
   "execution_count": 26,
   "id": "2a9dcb78-43a8-410a-a5bf-11c0b423bb1c",
   "metadata": {},
   "outputs": [
    {
     "name": "stdout",
     "output_type": "stream",
     "text": [
      "          Login email  Identifier One-time password Recovery code First name  \\\n",
      "0  rachel@example.com        9012            12se74        rb9012     Rachel   \n",
      "1   laura@example.com        2070            04ap67        lg2070      Laura   \n",
      "2   craig@example.com        4081            30no86        cj4081      Craig   \n",
      "3    mary@example.com        9346            14ju73        mj9346       Mary   \n",
      "4   jamie@example.com        5079            09ja61        js5079      Jamie   \n",
      "\n",
      "  Last name   Department    Location  \n",
      "0    Booker        Sales  Manchester  \n",
      "1      Grey        Depot      London  \n",
      "2   Johnson        Depot      London  \n",
      "3   Jenkins  Engineering  Manchester  \n",
      "4     Smith  Engineering  Manchester  \n"
     ]
    }
   ],
   "source": [
    "df3 = pd.read_csv('email-password-recovery-code.csv', sep=';')\n",
    "print(df3)"
   ]
  },
  {
   "cell_type": "code",
   "execution_count": null,
   "id": "5593736d-a7fe-4c87-9686-0577d1cd4dc3",
   "metadata": {},
   "outputs": [],
   "source": []
  }
 ],
 "metadata": {
  "kernelspec": {
   "display_name": "Python 3 (ipykernel)",
   "language": "python",
   "name": "python3"
  },
  "language_info": {
   "codemirror_mode": {
    "name": "ipython",
    "version": 3
   },
   "file_extension": ".py",
   "mimetype": "text/x-python",
   "name": "python",
   "nbconvert_exporter": "python",
   "pygments_lexer": "ipython3",
   "version": "3.12.2"
  }
 },
 "nbformat": 4,
 "nbformat_minor": 5
}
