{
 "cells": [
  {
   "cell_type": "markdown",
   "id": "65bcd6db-f411-4b32-94e7-4e8aecd320d7",
   "metadata": {},
   "source": [
    "# Heading1"
   ]
  },
  {
   "cell_type": "markdown",
   "id": "420c5439-bc53-4daa-9966-ae3cbe22a288",
   "metadata": {},
   "source": [
    "## Heading 2"
   ]
  },
  {
   "cell_type": "markdown",
   "id": "0402fe47-1780-4238-849b-ef01c510b822",
   "metadata": {},
   "source": [
    "### Heading 3\n",
    "\n",
    "#### Heading 4\n",
    "\n",
    "##### Heading 5\n",
    "\n",
    "###### Heading 6"
   ]
  },
  {
   "cell_type": "markdown",
   "id": "473e123e-7b64-4760-b13f-f3b47c06df33",
   "metadata": {},
   "source": [
    "*italic*\n",
    "_italic_"
   ]
  },
  {
   "cell_type": "markdown",
   "id": "de333c2c-a17b-4ccf-9b4e-9a5c617f4ae3",
   "metadata": {},
   "source": [
    "\\*asterisk\\*"
   ]
  },
  {
   "cell_type": "markdown",
   "id": "a38748eb-d029-48b9-b365-3bdf157802ae",
   "metadata": {},
   "source": [
    "**bold**\n",
    "__bold__"
   ]
  },
  {
   "cell_type": "markdown",
   "id": "b47cc2ba-db01-4e60-a8c4-ce1f96343052",
   "metadata": {},
   "source": [
    "~strike~"
   ]
  },
  {
   "cell_type": "markdown",
   "id": "8ea8c7e0-a042-46aa-b4ac-973595f7f151",
   "metadata": {},
   "source": [
    "1. Item 1\n",
    "2. Item 2\n",
    "   1. SubItem1\n",
    "3. Item 3"
   ]
  },
  {
   "cell_type": "markdown",
   "id": "a16ce219-d20b-4b0b-bf93-cc90d5a80454",
   "metadata": {},
   "source": [
    "- Item 1\n",
    "- Item 2"
   ]
  },
  {
   "cell_type": "markdown",
   "id": "3511406e-d4cd-403d-85a7-0d2e4aed2715",
   "metadata": {},
   "source": [
    "- [x] Some task\n",
    "- [ ] Some more task"
   ]
  },
  {
   "cell_type": "markdown",
   "id": "50dd4299-d8a1-4f38-a84b-b1fbbdf79b71",
   "metadata": {},
   "source": [
    "---"
   ]
  },
  {
   "cell_type": "markdown",
   "id": "380a6b08-d590-4d37-b9e1-23eaec09637d",
   "metadata": {},
   "source": [
    "[Google](https://google.com)"
   ]
  },
  {
   "cell_type": "markdown",
   "id": "7932a870-bfed-40d0-b6f5-c2fe0cfd8131",
   "metadata": {},
   "source": [
    "[Jump to Headin 1](#Heading1)"
   ]
  },
  {
   "cell_type": "markdown",
   "id": "84b72996-9e4f-4e6f-bded-fc7a25dd9cc7",
   "metadata": {},
   "source": [
    "> nfand asn djkasn dnas ldas "
   ]
  },
  {
   "cell_type": "markdown",
   "id": "82ad46b2-5552-49a2-9ef4-1e88bdba55ca",
   "metadata": {},
   "source": [
    "`lambda` functions in python:\n",
    "```python\n",
    "lambda x: x*2\n",
    "```"
   ]
  },
  {
   "cell_type": "markdown",
   "id": "b71f6022-0b0f-495d-889b-631cd2829455",
   "metadata": {},
   "source": [
    "$\\sqrt{x}$\n",
    "$$\\sqrt{x}$$"
   ]
  },
  {
   "cell_type": "markdown",
   "id": "c4bdb3cf-ab0e-45ac-935c-257a2383c4ab",
   "metadata": {},
   "source": [
    "![Logo](https://static.vecteezy.com/system/resources/previews/020/806/106/non_2x/chocolate-logo-sample-vector.jpg)"
   ]
  },
  {
   "cell_type": "markdown",
   "id": "886e540b-8af5-42b2-a1b8-41539d8e0bb0",
   "metadata": {},
   "source": [
    "Create A Local Repository\n",
    "```\n",
    "$ git init\n",
    "```"
   ]
  },
  {
   "cell_type": "code",
   "execution_count": null,
   "id": "0f9b895b-cb9c-4d77-99fc-3342956a5753",
   "metadata": {},
   "outputs": [],
   "source": []
  }
 ],
 "metadata": {
  "kernelspec": {
   "display_name": "Python 3 (ipykernel)",
   "language": "python",
   "name": "python3"
  },
  "language_info": {
   "codemirror_mode": {
    "name": "ipython",
    "version": 3
   },
   "file_extension": ".py",
   "mimetype": "text/x-python",
   "name": "python",
   "nbconvert_exporter": "python",
   "pygments_lexer": "ipython3",
   "version": "3.12.2"
  }
 },
 "nbformat": 4,
 "nbformat_minor": 5
}
