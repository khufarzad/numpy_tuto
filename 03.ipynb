{
 "cells": [
  {
   "cell_type": "code",
   "execution_count": 1,
   "id": "89c49dc1-9c57-47a3-9553-23e3fd9e5c5f",
   "metadata": {},
   "outputs": [],
   "source": [
    "import numpy as np"
   ]
  },
  {
   "cell_type": "code",
   "execution_count": 3,
   "id": "9f9ecb16-fa20-4f46-9007-3719f52bddd2",
   "metadata": {},
   "outputs": [
    {
     "name": "stdout",
     "output_type": "stream",
     "text": [
      "[3 4 5 6 7 8 9]\n",
      "<class 'numpy.ndarray'>\n"
     ]
    }
   ],
   "source": [
    "a = np.arange(3, 10)\n",
    "print(a)\n",
    "print(type(a))"
   ]
  },
  {
   "cell_type": "code",
   "execution_count": 13,
   "id": "75408674-f69e-406b-80df-10d52294df6d",
   "metadata": {},
   "outputs": [
    {
     "name": "stdout",
     "output_type": "stream",
     "text": [
      "[ 1.    3.25  5.5   7.75 10.  ]\n"
     ]
    }
   ],
   "source": [
    "b = np.linspace(1, 10, 5)\n",
    "print(b)"
   ]
  },
  {
   "cell_type": "code",
   "execution_count": 14,
   "id": "f958f72d-82a7-4788-8708-afb0ce37efa9",
   "metadata": {},
   "outputs": [
    {
     "name": "stdout",
     "output_type": "stream",
     "text": [
      "[0. 0. 0. 0. 0.]\n"
     ]
    }
   ],
   "source": [
    "c = np.zeros(5)\n",
    "print(c)"
   ]
  },
  {
   "cell_type": "code",
   "execution_count": 15,
   "id": "21d3281c-4b8d-43ae-83e0-d07eaaddef53",
   "metadata": {},
   "outputs": [
    {
     "name": "stdout",
     "output_type": "stream",
     "text": [
      "[1. 1. 1. 1. 1.]\n"
     ]
    }
   ],
   "source": [
    "d = np.ones(5)\n",
    "print(d)"
   ]
  },
  {
   "cell_type": "code",
   "execution_count": 31,
   "id": "9288c8a2-2171-4620-8479-59585cf4d1cf",
   "metadata": {},
   "outputs": [],
   "source": []
  },
  {
   "cell_type": "code",
   "execution_count": 46,
   "id": "e29e1ddf-b990-4c08-8c9a-afc83a3978a9",
   "metadata": {},
   "outputs": [
    {
     "name": "stdout",
     "output_type": "stream",
     "text": [
      "[0.5488135  0.71518937 0.60276338 0.54488318 0.4236548  0.64589411\n",
      " 0.43758721]\n",
      "[ 1.26611853 -0.50587654  2.54520078  1.08081191  0.48431215]\n",
      "[ 0.57914048 -0.18158257  1.41020463 -0.37447169  0.27519832]\n"
     ]
    }
   ],
   "source": [
    "np.random.seed(0)\n",
    "e = np.random.rand(7)\n",
    "print(e)\n",
    "f = np.random.randn(5)\n",
    "print(f)\n",
    "g = np.random.randn(5)\n",
    "print(g)"
   ]
  },
  {
   "cell_type": "code",
   "execution_count": 55,
   "id": "60ac8c39-8c0c-45ea-a85b-99bd1af9059d",
   "metadata": {},
   "outputs": [
    {
     "data": {
      "text/plain": [
       "array([[1., 0., 0., 0.],\n",
       "       [0., 1., 0., 0.],\n",
       "       [0., 0., 1., 0.],\n",
       "       [0., 0., 0., 1.]])"
      ]
     },
     "execution_count": 55,
     "metadata": {},
     "output_type": "execute_result"
    }
   ],
   "source": [
    "h = np.eye(4)\n",
    "h"
   ]
  },
  {
   "cell_type": "code",
   "execution_count": 61,
   "id": "2ccbdd6c-f0b3-4bbc-8642-c909ce654182",
   "metadata": {},
   "outputs": [
    {
     "name": "stdout",
     "output_type": "stream",
     "text": [
      "[1 2 3]\n",
      "[2 4 6]\n"
     ]
    }
   ],
   "source": [
    "i = np.array([1, 2, 3])\n",
    "j = i.copy()\n",
    "j = j * 2\n",
    "print(i)\n",
    "print(j)"
   ]
  },
  {
   "cell_type": "code",
   "execution_count": 87,
   "id": "dc237f0a-bb81-4966-90ed-8e508fbd1f29",
   "metadata": {},
   "outputs": [],
   "source": [
    "k = np.array([1, 3, 2])\n",
    "l = np.array([-1, 3, 1])"
   ]
  },
  {
   "cell_type": "code",
   "execution_count": 90,
   "id": "b2e89104-3329-447d-a36b-a0c2b5277f10",
   "metadata": {},
   "outputs": [
    {
     "name": "stdout",
     "output_type": "stream",
     "text": [
      "[0 4 5]\n",
      "[ 2  2 -1]\n",
      "[-1  3  6]\n",
      "[-1  1  3]\n"
     ]
    }
   ],
   "source": [
    "print(k + l)\n",
    "print(k - l)\n",
    "print(k * l)\n",
    "l.sort()\n",
    "print(l)"
   ]
  },
  {
   "cell_type": "code",
   "execution_count": 76,
   "id": "d5decbf3-76ce-4aa3-84cc-220cbb1559d2",
   "metadata": {},
   "outputs": [
    {
     "name": "stdout",
     "output_type": "stream",
     "text": [
      "[False  True False]\n"
     ]
    }
   ],
   "source": [
    "print(k == l)"
   ]
  },
  {
   "cell_type": "code",
   "execution_count": 77,
   "id": "92271b37-3a22-4e3b-a4ec-17ff6dc5feb2",
   "metadata": {},
   "outputs": [
    {
     "name": "stdout",
     "output_type": "stream",
     "text": [
      "[ True False  True]\n"
     ]
    }
   ],
   "source": [
    "print(k > l)"
   ]
  },
  {
   "cell_type": "code",
   "execution_count": 85,
   "id": "503e1f2e-6312-4058-bdaa-c1db4eccc080",
   "metadata": {},
   "outputs": [
    {
     "name": "stdout",
     "output_type": "stream",
     "text": [
      "1\n",
      "100\n",
      "(100,)\n",
      "0.9876\n",
      "0.0039\n",
      "0.48534800000000006\n",
      "0.49675\n",
      "0.27497057750966736\n"
     ]
    }
   ],
   "source": [
    "np.random.seed(10)\n",
    "m = np.around(np.random.rand(100), 4)\n",
    "print(m.ndim)\n",
    "print(m.size)\n",
    "print(m.shape)\n",
    "print(m.max())\n",
    "print(m.min())\n",
    "print(np.mean(m)) # Average\n",
    "print(np.median(m))\n",
    "print(np.std(m)) # Standard Deviation"
   ]
  },
  {
   "cell_type": "code",
   "execution_count": 91,
   "id": "566023d7-4436-4117-bb1d-567f45f3c773",
   "metadata": {},
   "outputs": [
    {
     "name": "stdout",
     "output_type": "stream",
     "text": [
      "[[1 2 3]\n",
      " [4 5 6]\n",
      " [7 8 9]]\n"
     ]
    }
   ],
   "source": [
    "n = np.array([\n",
    "    [1, 2, 3],\n",
    "    [4, 5, 6],\n",
    "    [7, 8, 9]\n",
    "])\n",
    "print(n)"
   ]
  },
  {
   "cell_type": "code",
   "execution_count": 92,
   "id": "29791747-5184-455c-9ee9-92c8563289fb",
   "metadata": {},
   "outputs": [
    {
     "name": "stdout",
     "output_type": "stream",
     "text": [
      "[[1 4 7]\n",
      " [2 5 8]\n",
      " [3 6 9]]\n"
     ]
    }
   ],
   "source": [
    "print(n.T) #np.transpose(n)"
   ]
  },
  {
   "cell_type": "code",
   "execution_count": 98,
   "id": "86939f26-cef7-4d0d-b986-f837159d0465",
   "metadata": {},
   "outputs": [
    {
     "name": "stdout",
     "output_type": "stream",
     "text": [
      "[ 1  3  2 -1  1  3]\n"
     ]
    }
   ],
   "source": [
    "# k = np.array([1, 3, 2])\n",
    "# l = np.array([-1, 1, 3])\n",
    "# o = [1, 3, 2, -1, 3, 1]\n",
    "o = np.concatenate((k, l))\n",
    "print(o)"
   ]
  },
  {
   "cell_type": "code",
   "execution_count": null,
   "id": "eb016a1d-12ef-4b16-b6fc-1f77a69a194e",
   "metadata": {},
   "outputs": [],
   "source": []
  }
 ],
 "metadata": {
  "kernelspec": {
   "display_name": "Python 3 (ipykernel)",
   "language": "python",
   "name": "python3"
  },
  "language_info": {
   "codemirror_mode": {
    "name": "ipython",
    "version": 3
   },
   "file_extension": ".py",
   "mimetype": "text/x-python",
   "name": "python",
   "nbconvert_exporter": "python",
   "pygments_lexer": "ipython3",
   "version": "3.12.2"
  }
 },
 "nbformat": 4,
 "nbformat_minor": 5
}
